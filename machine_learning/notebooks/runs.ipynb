{
 "cells": [
  {
   "cell_type": "code",
   "execution_count": null,
   "metadata": {},
   "outputs": [],
   "source": [
    "\n",
    "%load_ext autoreload\n",
    "%autoreload 2\n",
    "\n",
    "import sys\n",
    "from pathlib import Path\n",
    "\n",
    "import matplotlib.pyplot as plt\n",
    "%matplotlib inline\n",
    "\n",
    "path_to_add = Path(\"/home/ronkanto/data/machine_learning/\")\n",
    "if str(path_to_add) not in sys.path:\n",
    "    sys.path.append(str(path_to_add))\n",
    "\n",
    "import numpy as np\n",
    "import pandas as pd\n",
    "import torch\n",
    "import traceback\n",
    "\n",
    "\n",
    "from src.model import PoolingLayerEnum, MatrixEncoderType, MatrixEncoderActivationType\n",
    "from src.experiment import SingleParameterExperimentCreation\n",
    "from src.data_processing.data_loading import SamplePath\n",
    "\n",
    "\n",
    "RANDOM_STATE = 71070\n",
    "\n",
    "\n",
    "DEVICE = \"cuda:3\""
   ]
  },
  {
   "cell_type": "code",
   "execution_count": null,
   "metadata": {},
   "outputs": [
    {
     "name": "stderr",
     "output_type": "stream",
     "text": [
      "\u001b[32m2025-03-13 20:44:06.754\u001b[0m | \u001b[1mINFO    \u001b[0m | \u001b[36msrc.cross_validation_run\u001b[0m:\u001b[36m__post_init__\u001b[0m:\u001b[36m37\u001b[0m - \u001b[1mGenerating Trainers\u001b[0m\n",
      "\u001b[32m2025-03-13 20:44:06.754\u001b[0m | \u001b[1mINFO    \u001b[0m | \u001b[36msrc.data_processing.data_loading\u001b[0m:\u001b[36mpath\u001b[0m:\u001b[36m63\u001b[0m - \u001b[1mSamplePath.old_smoothing\u001b[0m\n"
     ]
    },
    {
     "name": "stdout",
     "output_type": "stream",
     "text": [
      "num_graph_layers [5, 7, 10]\n"
     ]
    }
   ],
   "source": [
    "default_model_parameters = {\n",
    "    \"convolution_channels\": [16] * 3,\n",
    "    \"num_graph_layers\": 4,\n",
    "    \"random_state\": RANDOM_STATE,\n",
    "    \"use_batchnorm\": True,\n",
    "    \"dropout_probability\": 0.5,\n",
    "    \"gnn_pooling_layer\": PoolingLayerEnum.sum_pool,\n",
    "    \"encoder_type\": MatrixEncoderType(\"full\"),\n",
    "    \"gnn_activation\": \"GELU\",\n",
    "    \"activation_type\": MatrixEncoderActivationType(\n",
    "        activation_type=\"gelu\", activation_params=dict(lrelu_slope=0.01)\n",
    "    ),\n",
    "    \"gnn_network_type\": \"graphsage\"\n",
    "}\n",
    "\n",
    "default_experiment_parameters = {\n",
    "    \"batch_size\": 512,\n",
    "    \"num_folds\": 5,\n",
    "    \"random_state\": RANDOM_STATE,\n",
    "    \"sample_path\": SamplePath.old_smoothing,\n",
    "    \"num_workers\": 8,\n",
    "    \"synthesize_negative_samples\": False,\n",
    "    \"max_matrix_noise\": 0,\n",
    "    \"max_positive_upsampling_per_pathway\": 1,\n",
    "    \"max_matrix_nmae\": 0.2,\n",
    "}\n",
    "\n",
    "experiment_sets = [\n",
    "    (\"gnn_network_type\", [\"gat\", \"graphsage\"], True)\n",
    "]\n",
    "\n",
    "\n",
    "tb = None\n",
    "exception = None\n",
    "\n",
    "\n",
    "\n",
    "try:\n",
    "\n",
    "    for experiment_parameter_name, experiment_parameter_values, is_model_parameter in experiment_sets:\n",
    "        print(experiment_parameter_name, experiment_parameter_values)\n",
    "        experiment = SingleParameterExperimentCreation(\n",
    "            default_model_parameters=default_model_parameters,\n",
    "            default_experiment_parameters=default_experiment_parameters,\n",
    "            changing_parameter_name=experiment_parameter_name,\n",
    "            changing_parameter_values=experiment_parameter_values,\n",
    "            is_model_parameter=is_model_parameter,\n",
    "            experiment_name_prefix=\"gat_\",\n",
    "            results_directory=Path(f\"../results/model_param_runs/epochs_200/{experiment_parameter_name}/\"),\n",
    "        ).create_experiment()\n",
    "        experiment.run_and_save_results(num_epochs=200, with_tqdm=True, device=DEVICE)\n",
    "    \n",
    "\n",
    "except Exception as e:\n",
    "    exception = e\n",
    "    tb = traceback.format_exc()\n",
    "    raise\n",
    "\n"
   ]
  }
 ],
 "metadata": {
  "kernelspec": {
   "display_name": "Python 3 (ipykernel)",
   "language": "python",
   "name": "python3"
  },
  "language_info": {
   "codemirror_mode": {
    "name": "ipython",
    "version": 3
   },
   "file_extension": ".py",
   "mimetype": "text/x-python",
   "name": "python",
   "nbconvert_exporter": "python",
   "pygments_lexer": "ipython3",
   "version": "3.13.1"
  }
 },
 "nbformat": 4,
 "nbformat_minor": 4
}
